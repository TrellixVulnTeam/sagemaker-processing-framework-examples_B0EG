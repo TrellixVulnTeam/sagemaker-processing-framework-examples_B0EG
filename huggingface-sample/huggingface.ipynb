{
 "cells": [
  {
   "cell_type": "code",
   "execution_count": null,
   "source": [
    "!mkdir -p .data .output\n",
    "!aws s3 cp s3://amazon-reviews-pds/tsv/sample_us.tsv .data/ \n",
    "!aws s3 cp s3://amazon-reviews-pds/tsv/sample_fr.tsv .data/ "
   ],
   "outputs": [],
   "metadata": {}
  },
  {
   "cell_type": "code",
   "execution_count": null,
   "source": [
    "from sagemaker import Session\n",
    "\n",
    "session = Session()\n",
    "bucket = session.default_bucket()\n",
    "key_prefix = 'frameworkprocessors/huggingface-example'\n",
    "\n",
    "source_path = session.upload_data('.data', bucket=bucket, key_prefix=f'{key_prefix}/data')\n",
    "source_path"
   ],
   "outputs": [],
   "metadata": {}
  },
  {
   "cell_type": "code",
   "execution_count": null,
   "source": [
    "from sagemaker.huggingface import HuggingFaceProcessor\n",
    "from sagemaker.processing import ProcessingInput, ProcessingOutput\n",
    "from sagemaker import get_execution_role\n",
    "\n",
    "hfp = HuggingFaceProcessor(\n",
    "    role=get_execution_role(), \n",
    "    instance_count=2,\n",
    "    instance_type='ml.g4dn.xlarge',\n",
    "    transformers_version='4.4.2',\n",
    "    pytorch_version='1.6.0', \n",
    "    base_job_name='frameworkprocessor-hf'\n",
    ")"
   ],
   "outputs": [],
   "metadata": {}
  },
  {
   "cell_type": "code",
   "execution_count": null,
   "source": [
    "hfp.run(\n",
    "    code='huggingface-processing.py',\n",
    "    inputs=[\n",
    "        ProcessingInput(\n",
    "            input_name='data',\n",
    "            source=source_path,\n",
    "            destination='/opt/ml/processing/input/data/'\n",
    "        )\n",
    "    ],\n",
    "    outputs=[\n",
    "        ProcessingOutput(output_name='train', source='/opt/ml/processing/output/train/'),\n",
    "        ProcessingOutput(output_name='test', source='/opt/ml/processing/output/test/'),\n",
    "        ProcessingOutput(output_name='val', source='/opt/ml/processing/output/val/'),\n",
    "    ],\n",
    "    logs=False\n",
    ")"
   ],
   "outputs": [],
   "metadata": {}
  },
  {
   "cell_type": "code",
   "execution_count": null,
   "source": [],
   "outputs": [],
   "metadata": {}
  }
 ],
 "metadata": {
  "orig_nbformat": 4,
  "language_info": {
   "name": "python",
   "version": "3.9.5",
   "mimetype": "text/x-python",
   "codemirror_mode": {
    "name": "ipython",
    "version": 3
   },
   "pygments_lexer": "ipython3",
   "nbconvert_exporter": "python",
   "file_extension": ".py"
  },
  "kernelspec": {
   "name": "python3",
   "display_name": "Python 3.9.5 64-bit ('.env': venv)"
  },
  "interpreter": {
   "hash": "9d2b948e37551121c9966918e813855172d09a33f53ab70e27ea27a900ccbb7b"
  }
 },
 "nbformat": 4,
 "nbformat_minor": 2
}