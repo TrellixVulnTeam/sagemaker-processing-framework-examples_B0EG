{
 "cells": [
  {
   "cell_type": "code",
   "execution_count": null,
   "source": [
    "!mkdir -p .data .output"
   ],
   "outputs": [],
   "metadata": {}
  },
  {
   "cell_type": "code",
   "execution_count": null,
   "source": [
    "import pandas as pd\n",
    "\n",
    "#getting train datatset of twitter volume\n",
    "url = \"https://raw.githubusercontent.com/numenta/NAB/master/data/realTweets/Twitter_volume_AMZN.csv\"\n",
    "df = pd.read_csv(url, header=0, index_col=0)\n",
    "df.to_csv('.data/dataset.csv')"
   ],
   "outputs": [],
   "metadata": {}
  },
  {
   "cell_type": "code",
   "execution_count": null,
   "source": [
    "import sagemaker \n",
    "\n",
    "session = sagemaker.Session()\n",
    "bucket = session.default_bucket()\n",
    "key_prefix = 'frameworkprocessors/mxnet-example'\n",
    "\n",
    "source_path = session.upload_data('.data', bucket=bucket, key_prefix=f'{key_prefix}/data')\n",
    "source_path"
   ],
   "outputs": [],
   "metadata": {}
  },
  {
   "cell_type": "code",
   "execution_count": null,
   "source": [
    "from sagemaker.mxnet import MXNetProcessor\n",
    "from sagemaker.processing import ProcessingInput, ProcessingOutput\n",
    "from sagemaker import get_execution_role\n",
    "\n",
    "mxp = MXNetProcessor(\n",
    "    framework_version='1.8.0',\n",
    "    py_version='py37',\n",
    "    role=get_execution_role(), \n",
    "    instance_count=1,\n",
    "    instance_type='ml.c5.xlarge',\n",
    "    base_job_name='frameworkprocessor-mxnet'\n",
    ")"
   ],
   "outputs": [],
   "metadata": {}
  },
  {
   "cell_type": "code",
   "execution_count": null,
   "source": [
    "mxp.run(\n",
    "    code='mxnet-gluonts-processing.py',\n",
    "    source_dir='.',\n",
    "    inputs=[\n",
    "        ProcessingInput(\n",
    "            input_name='data', source=source_path,\n",
    "            destination='/opt/ml/processing/input/data/'\n",
    "        )\n",
    "    ],\n",
    "    outputs=[\n",
    "        ProcessingOutput(output_name='processed_data', source='/opt/ml/processing/output/')\n",
    "    ],\n",
    "    logs=False\n",
    ")"
   ],
   "outputs": [],
   "metadata": {}
  },
  {
   "cell_type": "code",
   "execution_count": null,
   "source": [
    "output_path = mxp.latest_job.outputs[0].destination\n",
    "\n",
    "!aws s3 ls --recursive $output_path"
   ],
   "outputs": [],
   "metadata": {}
  }
 ],
 "metadata": {
  "orig_nbformat": 4,
  "language_info": {
   "name": "python",
   "version": "3.9.5",
   "mimetype": "text/x-python",
   "codemirror_mode": {
    "name": "ipython",
    "version": 3
   },
   "pygments_lexer": "ipython3",
   "nbconvert_exporter": "python",
   "file_extension": ".py"
  },
  "kernelspec": {
   "name": "python3",
   "display_name": "Python 3.9.5 64-bit ('.env': venv)"
  },
  "interpreter": {
   "hash": "62c64044d4c154360cb75d05b493e8b0d10fa1187381e0ceaf329463ad089ac8"
  }
 },
 "nbformat": 4,
 "nbformat_minor": 2
}